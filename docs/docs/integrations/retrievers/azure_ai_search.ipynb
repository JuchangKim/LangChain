{
 "cells": [
  {
   "cell_type": "markdown",
   "id": "1edb9e6b",
   "metadata": {},
   "source": [
    "# Azure AI Search\n",
    "\n",
    "[Azure AI Search](https://learn.microsoft.com/azure/search/search-what-is-azure-search) (formerly known as `Azure Cognitive Search`) is a Microsoft cloud search service that gives developers infrastructure, APIs, and tools for information retrieval of vector, keyword, and hybrid queries at scale.\n",
    "\n",
    "`AzureAISearchRetriever` is an integration module that returns documents from an unstructured query. It's based on the BaseRetriever class and it targets the 2023-11-01 stable REST API version of Azure AI Search, which means it supports vector indexing and queries.\n",
    "\n",
    "To use this module, you need:\n",
    "\n",
    "+ An Azure AI Search service. You can [create one](https://learn.microsoft.com/azure/search/search-create-service-portal) for free if you sign up for the Azure trial. A free service has lower quotas, but it's sufficient for running the code in this notebook.\n",
    "\n",
    "+ An existing index with vector fields. There are several ways to create one, including using the [vector store module](../vectorstores/azuresearch.ipynb). Or, [try the Azure AI Search REST APIs](https://learn.microsoft.com/azure/search/search-get-started-vector).\n",
    "\n",
    "+ An API key. API keys are generated when you create the search service. If you're just querying an index, you can use the query API key, otherwise use an admin API key. See [Find your API keys](https://learn.microsoft.com/azure/search/search-security-api-keys?tabs=rest-use%2Cportal-find%2Cportal-query#find-existing-keys) for details.\n",
    "\n",
    "`AzureAISearchRetriever` replaces `AzureCognitiveSearchRetriever`, which will soon be deprecated. We recommend switching to the newer version that's based on the most recent stable version of the search APIs."
   ]
  },
  {
   "cell_type": "markdown",
   "id": "f99d4456",
   "metadata": {},
   "source": [
    "## Install packages\n",
    "\n",
    "Use azure-documents-search package 11.4 or later."
   ]
  },
  {
   "cell_type": "code",
   "execution_count": null,
   "id": "ad4521b0",
   "metadata": {},
   "outputs": [],
   "source": [
    "%pip install --upgrade --quiet langchain\n",
    "%pip install --upgrade --quiet langchain-openai\n",
    "%pip install --upgrade --quiet  azure-search-documents\n",
    "%pip install --upgrade --quiet  azure-identity"
   ]
  },
  {
   "cell_type": "markdown",
   "id": "0474661d",
   "metadata": {},
   "source": [
    "## Import required libraries"
   ]
  },
  {
   "cell_type": "code",
   "execution_count": null,
   "id": "39d6074e",
   "metadata": {},
   "outputs": [],
   "source": [
    "import os\n",
    "\n",
    "from langchain_community.retrievers import (\n",
    "    AzureAISearchRetriever,\n",
    ")"
   ]
  },
  {
   "cell_type": "markdown",
   "id": "b7243e6d",
   "metadata": {},
   "source": [
    "## Configure search settings\n",
    "\n",
    "To use the Azure Search Retriever you'll need to set the search service name and index name as environment variables or pass them as arguments to `AzureAISearchRetriever`. The search index provides the searchable content. You can set these as environment variables as follows. "
   ]
  },
  {
   "cell_type": "code",
   "execution_count": null,
   "id": "33fd23d1",
   "metadata": {},
   "outputs": [],
   "source": [
    "os.environ[\"AZURE_AI_SEARCH_SERVICE_NAME\"] = \"<YOUR_SEARCH_SERVICE_NAME>\"\n",
    "os.environ[\"AZURE_AI_SEARCH_INDEX_NAME\"] = \"<YOUR_SEARCH_INDEX_NAME>\""
   ]
  },
  {
   "cell_type": "markdown",
   "id": "3bf93447",
   "metadata": {},
   "source": [
    "You will also need to either set an API key or provide a token provider if using keyless authentication, both will be demostrated below."
   ]
  },
  {
   "cell_type": "markdown",
   "id": "c2a97622",
   "metadata": {},
   "source": [
    "## Keyless Authentication \n",
    "\n",
    "For better security, we recommend using keyless authentication with Azure Entra ID. For the retriever to use managed identity, do not set or pass through an API key. Instead, sign into azd, and use your default credentials to create a token provider that you can pass to the retriever using the `azure_ad_token_provider` parameter. You will need to have the correct permissions set. Read more about using managed identity with Azure [here](https://learn.microsoft.com/en-us/azure/search/search-howto-managed-identities-data-sources?tabs=portal-sys%2Cportal-user). "
   ]
  },
  {
   "cell_type": "markdown",
   "id": "057deaad",
   "metadata": {},
   "source": [
    "## Create the retriever\n",
    "\n",
    "For `AzureAISearchRetriever`, provide an `index_name`, `content_key`, and `top_k` set to the number of number of results you'd like to retrieve. Setting `top_k` to zero (the default) returns all results.\n",
    "\n",
    "### With an API Key "
   ]
  },
  {
   "cell_type": "code",
   "execution_count": 23,
   "id": "c18d0c4c",
   "metadata": {},
   "outputs": [],
   "source": [
    "retriever = AzureAISearchRetriever(\n",
    "    content_key=\"content\",\n",
    "    top_k=1,\n",
    "    service_name=os.getenv(\"AZURE_SEARCH_ENDPOINT\"),\n",
    "    api_key=os.getenv(\"AZURE_SEARCH_API_KEY\"),\n",
    "    index_name=\"langchain-vector-demo\",\n",
    ")"
   ]
  },
  {
   "cell_type": "markdown",
   "id": "c91f39eb",
   "metadata": {},
   "source": [
    "### With Keyless Authentication "
   ]
  },
  {
   "cell_type": "code",
   "execution_count": null,
   "id": "8e1e5aaa",
   "metadata": {},
   "outputs": [],
   "source": [
    "from azure.identity import DefaultAzureCredential, get_bearer_token_provider\n",
    "\n",
    "bearer_token_provider = get_bearer_token_provider(\n",
    "    DefaultAzureCredential(), \"https://search.azure.com/.default\"\n",
    ")\n",
    "\n",
    "retriever = AzureAISearchRetriever(\n",
    "    content_key=\"content\",\n",
    "    top_k=1,\n",
    "    service_name=os.getenv(\"AZURE_SEARCH_ENDPOINT\"),\n",
    "    azure_ad_token_provider=bearer_token_provider,\n",
    "    index_name=\"langchain-vector-demo\",\n",
    ")"
   ]
  },
  {
   "cell_type": "markdown",
   "id": "e94ea104",
   "metadata": {},
   "source": [
    "Now you can use it to retrieve documents from Azure AI Search. \n",
    "This is the method you would call to do so. It will return all documents relevant to the query. "
   ]
  },
  {
   "cell_type": "code",
   "execution_count": null,
   "id": "c8b5794b",
   "metadata": {},
   "outputs": [],
   "source": [
    "retriever.invoke(\"here is my unstructured query string\")"
   ]
  },
  {
   "cell_type": "markdown",
   "id": "48649d37",
   "metadata": {},
   "source": [
    "## Example \n",
    "\n",
    "This section demonstrates using the retriever over built-in sample data. You can skip this step if you already have a vector index on your search service.\n",
    "\n",
    "Start by providing the endpoints and keys. Since we're creating a vector index in this step, specify a text embedding model to get a vector representation of the text. This example assumes Azure OpenAI with a deployment of text-embedding-ada-002. Because this step creates an index, be sure to use an admin API key for your search service."
   ]
  },
  {
   "cell_type": "code",
   "execution_count": null,
   "id": "0b313473",
   "metadata": {},
   "outputs": [],
   "source": [
    "import os\n",
    "\n",
    "from azure.identity import DefaultAzureCredential, get_bearer_token_provider\n",
    "from dotenv import load_dotenv\n",
    "from langchain_community.retrievers import AzureAISearchRetriever\n",
    "from langchain_community.vectorstores import AzureSearch\n",
    "from langchain_openai import AzureOpenAIEmbeddings\n",
    "\n",
    "load_dotenv()"
   ]
  },
  {
   "cell_type": "markdown",
   "id": "2b69fd80",
   "metadata": {},
   "source": [
    "### Create Azure Search vector store "
   ]
  },
  {
   "cell_type": "markdown",
   "id": "e889d1dd",
   "metadata": {},
   "source": [
    "We'll use an embedding model from Azure OpenAI to turn our documents into embeddings stored in the Azure AI Search vector store. We'll also set the index name to `langchain-vector-demo`. This will create a new vector store associated with that index name. We can create our embeddings and vector store either with API keys or with keyless authentication (recommended.) Both options are shown below. \n",
    "\n",
    "#### With API Keys "
   ]
  },
  {
   "cell_type": "code",
   "execution_count": null,
   "id": "281064b5",
   "metadata": {},
   "outputs": [],
   "source": [
    "embeddings = AzureOpenAIEmbeddings(\n",
    "    model=\"text-embedding-ada-002\",\n",
    "    azure_endpoint=os.getenv(\"AZURE_OPENAI_ENDPOINT\"),\n",
    "    api_key=os.getenv(\"AZURE_OPENAI_API_KEY\"),\n",
    "    api_version=\"2023-05-15\",\n",
    ")\n",
    "\n",
    "vector_store = AzureSearch(\n",
    "    embedding_function=embeddings.embed_query,\n",
    "    azure_search_endpoint=os.getenv(\"AZURE_SEARCH_AI_ENDPOINT\"),\n",
    "    azure_search_key=os.getenv(\"AZURE_AI_SEARCH_API_KEY\"),\n",
    "    index_name=\"langchain-vector-demo\",\n",
    ")"
   ]
  },
  {
   "cell_type": "markdown",
   "id": "f62d5f02",
   "metadata": {},
   "source": [
    "#### With Keyless Authentication "
   ]
  },
  {
   "cell_type": "code",
   "execution_count": null,
   "id": "d567209f",
   "metadata": {},
   "outputs": [],
   "source": [
    "token_provider = get_bearer_token_provider(\n",
    "    DefaultAzureCredential(), \"https://cognitiveservices.azure.com/.default\"\n",
    ")\n",
    "\n",
    "embeddings = AzureOpenAIEmbeddings(\n",
    "    model=\"text-embedding-ada-002\",\n",
    "    azure_endpoint=os.getenv(\"AZURE_OPENAI_ENDPOINT\"),\n",
    "    api_version=\"2023-05-15\",\n",
    "    azure_ad_token_provider=token_provider,\n",
    ")\n",
    "\n",
    "\n",
    "vector_store = AzureSearch(\n",
    "    embedding_function=embeddings.embed_query,\n",
    "    azure_search_endpoint=os.getenv(\"AZURE_SEARCH_ENDPOINT\"),\n",
    "    azure_credential=DefaultAzureCredential(),\n",
    "    index_name=\"langchain-vector-demo\",\n",
    ")"
   ]
  },
  {
   "cell_type": "markdown",
   "id": "76c86a34",
   "metadata": {},
   "source": [
    "Next, we'll load data into our newly created vector store. For this example, we load the `state_of_the_union.txt` file. We'll split the text in 400 token chunks with no overlap. Finally, the documents are added to our vector store as emeddings."
   ]
  },
  {
   "cell_type": "code",
   "execution_count": null,
   "id": "f4830b14",
   "metadata": {},
   "outputs": [],
   "source": [
    "from langchain_community.document_loaders import TextLoader\n",
    "from langchain_text_splitters import CharacterTextSplitter\n",
    "\n",
    "loader = TextLoader(\"state_of_the_union.txt\", encoding=\"utf-8\")\n",
    "\n",
    "documents = loader.load()\n",
    "text_splitter = CharacterTextSplitter(chunk_size=400, chunk_overlap=0)\n",
    "docs = text_splitter.split_documents(documents)\n",
    "\n",
    "vector_store.add_documents(documents=docs)"
   ]
  },
  {
   "cell_type": "markdown",
   "id": "ebb4c433",
   "metadata": {},
   "source": [
    "### Create retriever \n",
    "\n",
    "Next, we'll create a retriever. The current `index_name` variable is `langchain-vector-demo` from the retriever creation earlier in the docs. If you skipped vector store creation, provide your index name in the parameter. In this query, the top result is returned."
   ]
  },
  {
   "cell_type": "code",
   "execution_count": 21,
   "id": "7ba2e413",
   "metadata": {},
   "outputs": [],
   "source": [
    "retriever = AzureAISearchRetriever(\n",
    "    content_key=\"content\", top_k=1, index_name=\"langchain-vector-demo\"\n",
    ")"
   ]
  },
  {
   "cell_type": "markdown",
   "id": "8f497f09",
   "metadata": {},
   "source": [
    "Now we can retrieve the data that is relevant to our query from the documents we uploaded. "
   ]
  },
  {
   "cell_type": "code",
   "execution_count": null,
   "id": "7edb45e8",
   "metadata": {},
   "outputs": [],
   "source": [
    "answer = retriever.invoke(\"does the president have a plan for covid-19?\")\n",
    "print(answer[0].page_content)"
   ]
  }
 ],
 "metadata": {
  "kernelspec": {
   "display_name": "Python 3 (ipykernel)",
   "language": "python",
   "name": "python3"
  },
  "language_info": {
   "codemirror_mode": {
    "name": "ipython",
    "version": 3
   },
   "file_extension": ".py",
   "mimetype": "text/x-python",
   "name": "python",
   "nbconvert_exporter": "python",
   "pygments_lexer": "ipython3",
   "version": "3.9.19"
  }
 },
 "nbformat": 4,
 "nbformat_minor": 5
}
