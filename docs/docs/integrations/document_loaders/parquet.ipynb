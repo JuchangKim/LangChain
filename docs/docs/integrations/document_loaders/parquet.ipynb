{
 "cells": [
  {
   "cell_type": "markdown",
   "metadata": {},
   "source": [
    "# Apache Parquet\n",
    "\n",
    ">[Apache Parquet](https://parquet.apache.org/) is an open source, column-oriented data file format designed for efficient data storage and retrieval. It provides high performance compression and encoding schemes to handle complex data in bulk and is supported in many programming language and analytics tools."
   ]
  },
  {
   "cell_type": "markdown",
   "metadata": {},
   "source": [
    "### Install pyarrow"
   ]
  },
  {
   "cell_type": "code",
   "execution_count": null,
   "metadata": {},
   "outputs": [],
   "source": [
    "%pip install --upgrade --quiet  pyarrow"
   ]
  },
  {
   "cell_type": "markdown",
   "metadata": {},
   "source": [
    "### Import dependencies"
   ]
  },
  {
   "cell_type": "code",
   "execution_count": 8,
   "metadata": {},
   "outputs": [],
   "source": [
    "import os\n",
    "from langchain_community.document_loaders import ParquetLoader"
   ]
  },
  {
   "cell_type": "markdown",
   "metadata": {},
   "source": [
    "### Define the parquet file to load"
   ]
  },
  {
   "cell_type": "code",
   "execution_count": 12,
   "metadata": {},
   "outputs": [],
   "source": [
    "FILE_PATH = f\"{os.path.abspath('')}/example_data/mlb_teams_2012.parquet\""
   ]
  },
  {
   "cell_type": "markdown",
   "metadata": {},
   "source": [
    "### Load file and display top 10 Documents"
   ]
  },
  {
   "cell_type": "code",
   "execution_count": 22,
   "metadata": {},
   "outputs": [
    {
     "name": "stdout",
     "output_type": "stream",
     "text": [
      "Document -> page_content='Nationals' metadata={'Payroll': 81.34, 'Wins': 98}\n",
      "Document -> page_content='Reds' metadata={'Payroll': 82.2, 'Wins': 97}\n",
      "Document -> page_content='Yankees' metadata={'Payroll': 197.96, 'Wins': 95}\n",
      "Document -> page_content='Giants' metadata={'Payroll': 117.62, 'Wins': 94}\n",
      "Document -> page_content='Braves' metadata={'Payroll': 83.31, 'Wins': 94}\n",
      "Document -> page_content='Athletics' metadata={'Payroll': 55.37, 'Wins': 94}\n",
      "Document -> page_content='Rangers' metadata={'Payroll': 120.51, 'Wins': 93}\n",
      "Document -> page_content='Orioles' metadata={'Payroll': 81.43, 'Wins': 93}\n",
      "Document -> page_content='Rays' metadata={'Payroll': 64.17, 'Wins': 90}\n",
      "Document -> page_content='Angels' metadata={'Payroll': 154.49, 'Wins': 89}\n"
     ]
    }
   ],
   "source": [
    "loader = ParquetLoader(file_path=FILE_PATH, content_columns='Team')\n",
    "docs = loader.load()\n",
    "for doc in docs[:10]:\n",
    "    print(f\"{doc.__class__.__name__} -> {doc}\")"
   ]
  },
  {
   "cell_type": "markdown",
   "metadata": {},
   "source": [
    "### Alternatively specify multiple columns to join into the `page_contents` of the Document"
   ]
  },
  {
   "cell_type": "code",
   "execution_count": 24,
   "metadata": {},
   "outputs": [
    {
     "name": "stdout",
     "output_type": "stream",
     "text": [
      "Document -> page_content='Nationals 81.34' metadata={'Wins': 98}\n",
      "Document -> page_content='Reds 82.2' metadata={'Wins': 97}\n",
      "Document -> page_content='Yankees 197.96' metadata={'Wins': 95}\n",
      "Document -> page_content='Giants 117.62' metadata={'Wins': 94}\n",
      "Document -> page_content='Braves 83.31' metadata={'Wins': 94}\n",
      "Document -> page_content='Athletics 55.37' metadata={'Wins': 94}\n",
      "Document -> page_content='Rangers 120.51' metadata={'Wins': 93}\n",
      "Document -> page_content='Orioles 81.43' metadata={'Wins': 93}\n",
      "Document -> page_content='Rays 64.17' metadata={'Wins': 90}\n",
      "Document -> page_content='Angels 154.49' metadata={'Wins': 89}\n"
     ]
    }
   ],
   "source": [
    "loader2 = ParquetLoader(file_path=FILE_PATH, content_columns=['Team', 'Payroll'])\n",
    "docs2 = loader2.load()\n",
    "for doc in docs2[:10]:\n",
    "    print(f\"{doc.__class__.__name__} -> {doc}\")"
   ]
  },
  {
   "cell_type": "markdown",
   "metadata": {},
   "source": [
    "### Alternatively specify specific fields to present as `metadata` in the Document"
   ]
  },
  {
   "cell_type": "code",
   "execution_count": 26,
   "metadata": {},
   "outputs": [
    {
     "name": "stdout",
     "output_type": "stream",
     "text": [
      "Document -> page_content='Nationals' metadata={'Payroll': 81.34}\n",
      "Document -> page_content='Reds' metadata={'Payroll': 82.2}\n",
      "Document -> page_content='Yankees' metadata={'Payroll': 197.96}\n",
      "Document -> page_content='Giants' metadata={'Payroll': 117.62}\n",
      "Document -> page_content='Braves' metadata={'Payroll': 83.31}\n",
      "Document -> page_content='Athletics' metadata={'Payroll': 55.37}\n",
      "Document -> page_content='Rangers' metadata={'Payroll': 120.51}\n",
      "Document -> page_content='Orioles' metadata={'Payroll': 81.43}\n",
      "Document -> page_content='Rays' metadata={'Payroll': 64.17}\n",
      "Document -> page_content='Angels' metadata={'Payroll': 154.49}\n"
     ]
    }
   ],
   "source": [
    "loader3 = ParquetLoader(file_path=FILE_PATH, content_columns=['Team'], metadata_columns='Payroll')\n",
    "docs3 = loader3.load()\n",
    "for doc in docs3[:10]:\n",
    "    print(f\"{doc.__class__.__name__} -> {doc}\")"
   ]
  }
 ],
 "metadata": {
  "kernelspec": {
   "display_name": ".venv",
   "language": "python",
   "name": "python3"
  },
  "language_info": {
   "codemirror_mode": {
    "name": "ipython",
    "version": 3
   },
   "file_extension": ".py",
   "mimetype": "text/x-python",
   "name": "python",
   "nbconvert_exporter": "python",
   "pygments_lexer": "ipython3",
   "version": "3.12.3"
  }
 },
 "nbformat": 4,
 "nbformat_minor": 2
}
