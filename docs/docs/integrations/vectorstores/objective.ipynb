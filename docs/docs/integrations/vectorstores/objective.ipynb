{
 "cells": [
  {
   "cell_type": "markdown",
   "id": "5eabe1d5-39b4-4273-9fa3-e66e8bb6225f",
   "metadata": {},
   "source": [
    "# Objective\n",
    "\n",
    "Objective is an engine for building modern, AI-native search.\n",
    "\n",
    "Key features include:\n",
    "\n",
    "* Semantic, automatically understanding natural language queries, synonyms, typos, and multiple languages.\n",
    "* Hybrid, capable of exact matching and approximate matching in one API without requiring you to develop lexical / keyword matching as well as vector-based approximate nearest neighbors (ANN) engines.\n",
    "* Deep, surfacing relevant Highlights from different media by going inside the content and pulling out relevant bits.\n",
    "\n",
    "## Setup\n",
    "\n",
    "To use Objective be sure to install the latest `langchain-community` with `pip install -qU langchain-community`.\n",
    "\n",
    "Next you'll need to [sign up](https://app.objective.inc/) and copy your [API key](https://app.objective.inc/dashboard)."
   ]
  },
  {
   "cell_type": "code",
   "execution_count": null,
   "id": "05b50e5e-867f-4d7d-80dc-5b9f580e3301",
   "metadata": {},
   "outputs": [],
   "source": [
    "import os\n",
    "from langchain_community.document_loaders import TextLoader\n",
    "from langchain_community.vectorstores import Objective\n",
    "from langchain_text_splitters import CharacterTextSplitter"
   ]
  },
  {
   "cell_type": "code",
   "execution_count": null,
   "id": "e711f2a0-5bf1-445b-aece-b0f09449fe0f",
   "metadata": {},
   "outputs": [],
   "source": [
    "loader = TextLoader(\"../../how_to/state_of_the_union.txt\")\n",
    "documents = loader.load()\n",
    "documents = CharacterTextSplitter().split_documents(documents)"
   ]
  },
  {
   "cell_type": "code",
   "execution_count": null,
   "id": "a6c801bc-1dce-42f4-b796-28da5ad8867e",
   "metadata": {},
   "outputs": [],
   "source": [
    "docsearch = Objective.from_documents(documents, None, api_key=os.getenv(\"OBJECTIVE_KEY\"))"
   ]
  },
  {
   "cell_type": "code",
   "execution_count": null,
   "id": "ef237c63-5a9a-4de4-a7f5-3c581fe7c335",
   "metadata": {},
   "outputs": [],
   "source": [
    "index_id = docsearch.create_index()"
   ]
  },
  {
   "cell_type": "code",
   "execution_count": null,
   "id": "6419417a-32d5-4a6d-8d1b-fd877fd8f4a9",
   "metadata": {},
   "outputs": [],
   "source": [
    "status=docsearch.index_status(index_id)\n",
    "if status[\"UPLOADED\"] != status[\"READY\"]:\n",
    "    print(f\"Not all documents processed yet, please retry: {status}\")\n",
    "else:\n",
    "    print(\"Ready to proceed\")"
   ]
  },
  {
   "cell_type": "code",
   "execution_count": null,
   "id": "655a164c-8859-4eae-8c91-1a823bea2348",
   "metadata": {},
   "outputs": [],
   "source": [
    "docsearch.search(\"Ketanji\", search_type=\"doesnt matter\", index_id=index_id)"
   ]
  },
  {
   "cell_type": "code",
   "execution_count": null,
   "id": "d1679b49-3e42-4690-b43c-6a999b16de22",
   "metadata": {},
   "outputs": [],
   "source": []
  }
 ],
 "metadata": {
  "kernelspec": {
   "display_name": "Python 3 (ipykernel)",
   "language": "python",
   "name": "python3"
  },
  "language_info": {
   "codemirror_mode": {
    "name": "ipython",
    "version": 3
   },
   "file_extension": ".py",
   "mimetype": "text/x-python",
   "name": "python",
   "nbconvert_exporter": "python",
   "pygments_lexer": "ipython3",
   "version": "3.12.4"
  }
 },
 "nbformat": 4,
 "nbformat_minor": 5
}
